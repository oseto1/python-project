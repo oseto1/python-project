{
 "cells": [
  {
   "cell_type": "code",
   "execution_count": 10,
   "metadata": {},
   "outputs": [],
   "source": [
    "import boto3\n",
    "from datetime import datetime"
   ]
  },
  {
   "cell_type": "code",
   "execution_count": 11,
   "metadata": {},
   "outputs": [],
   "source": [
    "today = datetime.today()"
   ]
  },
  {
   "cell_type": "code",
   "execution_count": 12,
   "metadata": {},
   "outputs": [
    {
     "data": {
      "text/plain": [
       "datetime.datetime(2023, 4, 24, 22, 7, 51, 884346)"
      ]
     },
     "execution_count": 12,
     "metadata": {},
     "output_type": "execute_result"
    }
   ],
   "source": [
    "today"
   ]
  },
  {
   "cell_type": "code",
   "execution_count": 13,
   "metadata": {},
   "outputs": [],
   "source": [
    "todays_date = today.strftime(\"%y%m%d\")"
   ]
  },
  {
   "cell_type": "code",
   "execution_count": 14,
   "metadata": {},
   "outputs": [
    {
     "data": {
      "text/plain": [
       "'230424'"
      ]
     },
     "execution_count": 14,
     "metadata": {},
     "output_type": "execute_result"
    }
   ],
   "source": [
    "todays_date"
   ]
  },
  {
   "cell_type": "code",
   "execution_count": 15,
   "metadata": {},
   "outputs": [],
   "source": [
    "s3_client = boto3.client('s3')"
   ]
  },
  {
   "cell_type": "code",
   "execution_count": 16,
   "metadata": {},
   "outputs": [],
   "source": [
    "bucket_name = \"python-project\""
   ]
  },
  {
   "cell_type": "code",
   "execution_count": 17,
   "metadata": {},
   "outputs": [],
   "source": [
    "list_objects_response = s3_client.list_objects_v2(Bucket=bucket_name)"
   ]
  },
  {
   "cell_type": "code",
   "execution_count": 18,
   "metadata": {},
   "outputs": [
    {
     "data": {
      "text/plain": [
       "{'ResponseMetadata': {'RequestId': 'MF639HBFJ5QRQ5BE',\n",
       "  'HostId': '76RCiU9fWyhsN1vMumJ9sM+CGQg2d1gn1yiX1UcdVvpMkHNQCadQoY/QfdGgUf17w3X/I7rB+pk=',\n",
       "  'HTTPStatusCode': 200,\n",
       "  'HTTPHeaders': {'x-amz-id-2': '76RCiU9fWyhsN1vMumJ9sM+CGQg2d1gn1yiX1UcdVvpMkHNQCadQoY/QfdGgUf17w3X/I7rB+pk=',\n",
       "   'x-amz-request-id': 'MF639HBFJ5QRQ5BE',\n",
       "   'date': 'Tue, 25 Apr 2023 02:07:53 GMT',\n",
       "   'x-amz-bucket-region': 'us-east-1',\n",
       "   'content-type': 'application/xml',\n",
       "   'transfer-encoding': 'chunked',\n",
       "   'server': 'AmazonS3'},\n",
       "  'RetryAttempts': 0},\n",
       " 'IsTruncated': False,\n",
       " 'Contents': [{'Key': 'IMONIKHEO._JOHN_dsp Resume_2.DOCX',\n",
       "   'LastModified': datetime.datetime(2023, 4, 21, 1, 46, 30, tzinfo=tzutc()),\n",
       "   'ETag': '\"4f49690af5206ed4c78dc5cb6dd69975\"',\n",
       "   'Size': 902129,\n",
       "   'StorageClass': 'STANDARD'},\n",
       "  {'Key': 'JOHN O IMONIKHE.pdf',\n",
       "   'LastModified': datetime.datetime(2023, 4, 21, 1, 46, 31, tzinfo=tzutc()),\n",
       "   'ETag': '\"eaa2f4583e519184ba3637d73ec50fd3\"',\n",
       "   'Size': 44699,\n",
       "   'StorageClass': 'STANDARD'},\n",
       "  {'Key': 'John I.T resume.docx',\n",
       "   'LastModified': datetime.datetime(2023, 4, 21, 1, 46, 30, tzinfo=tzutc()),\n",
       "   'ETag': '\"6e7a0ccd9e4360875513d9426ccd3da5\"',\n",
       "   'Size': 32124,\n",
       "   'StorageClass': 'STANDARD'},\n",
       "  {'Key': 'John Imonikhe Cloud Engineer Resume.docx',\n",
       "   'LastModified': datetime.datetime(2023, 4, 21, 1, 46, 31, tzinfo=tzutc()),\n",
       "   'ETag': '\"c2aaefd2a626c8f0aaaafac3d42349f3\"',\n",
       "   'Size': 25790,\n",
       "   'StorageClass': 'STANDARD'},\n",
       "  {'Key': 'photo.jpg',\n",
       "   'LastModified': datetime.datetime(2023, 4, 21, 1, 46, 32, tzinfo=tzutc()),\n",
       "   'ETag': '\"6fc689d56ab852d88b824999bf11e5ea\"',\n",
       "   'Size': 108092,\n",
       "   'StorageClass': 'STANDARD'}],\n",
       " 'Name': 'python-project',\n",
       " 'Prefix': '',\n",
       " 'MaxKeys': 1000,\n",
       " 'EncodingType': 'url',\n",
       " 'KeyCount': 5}"
      ]
     },
     "execution_count": 18,
     "metadata": {},
     "output_type": "execute_result"
    }
   ],
   "source": [
    "list_objects_response"
   ]
  },
  {
   "cell_type": "code",
   "execution_count": 19,
   "metadata": {},
   "outputs": [],
   "source": [
    "get_content = list_objects_response.get(\"Contents\")"
   ]
  },
  {
   "cell_type": "code",
   "execution_count": 20,
   "metadata": {},
   "outputs": [
    {
     "data": {
      "text/plain": [
       "[{'Key': 'IMONIKHEO._JOHN_dsp Resume_2.DOCX',\n",
       "  'LastModified': datetime.datetime(2023, 4, 21, 1, 46, 30, tzinfo=tzutc()),\n",
       "  'ETag': '\"4f49690af5206ed4c78dc5cb6dd69975\"',\n",
       "  'Size': 902129,\n",
       "  'StorageClass': 'STANDARD'},\n",
       " {'Key': 'JOHN O IMONIKHE.pdf',\n",
       "  'LastModified': datetime.datetime(2023, 4, 21, 1, 46, 31, tzinfo=tzutc()),\n",
       "  'ETag': '\"eaa2f4583e519184ba3637d73ec50fd3\"',\n",
       "  'Size': 44699,\n",
       "  'StorageClass': 'STANDARD'},\n",
       " {'Key': 'John I.T resume.docx',\n",
       "  'LastModified': datetime.datetime(2023, 4, 21, 1, 46, 30, tzinfo=tzutc()),\n",
       "  'ETag': '\"6e7a0ccd9e4360875513d9426ccd3da5\"',\n",
       "  'Size': 32124,\n",
       "  'StorageClass': 'STANDARD'},\n",
       " {'Key': 'John Imonikhe Cloud Engineer Resume.docx',\n",
       "  'LastModified': datetime.datetime(2023, 4, 21, 1, 46, 31, tzinfo=tzutc()),\n",
       "  'ETag': '\"c2aaefd2a626c8f0aaaafac3d42349f3\"',\n",
       "  'Size': 25790,\n",
       "  'StorageClass': 'STANDARD'},\n",
       " {'Key': 'photo.jpg',\n",
       "  'LastModified': datetime.datetime(2023, 4, 21, 1, 46, 32, tzinfo=tzutc()),\n",
       "  'ETag': '\"6fc689d56ab852d88b824999bf11e5ea\"',\n",
       "  'Size': 108092,\n",
       "  'StorageClass': 'STANDARD'}]"
      ]
     },
     "execution_count": 20,
     "metadata": {},
     "output_type": "execute_result"
    }
   ],
   "source": [
    "get_content"
   ]
  },
  {
   "cell_type": "code",
   "execution_count": 21,
   "metadata": {},
   "outputs": [],
   "source": [
    "get_all_s3_object_and_folder_names = []\n",
    "\n",
    "for items in get_content: \n",
    "    s3_object_name = items.get(\"Key\")\n",
    "    get_all_s3_object_and_folder_names.append(s3_object_name)"
   ]
  },
  {
   "cell_type": "code",
   "execution_count": 22,
   "metadata": {},
   "outputs": [
    {
     "data": {
      "text/plain": [
       "['IMONIKHEO._JOHN_dsp Resume_2.DOCX',\n",
       " 'JOHN O IMONIKHE.pdf',\n",
       " 'John I.T resume.docx',\n",
       " 'John Imonikhe Cloud Engineer Resume.docx',\n",
       " 'photo.jpg']"
      ]
     },
     "execution_count": 22,
     "metadata": {},
     "output_type": "execute_result"
    }
   ],
   "source": [
    "get_all_s3_object_and_folder_names"
   ]
  },
  {
   "cell_type": "code",
   "execution_count": 23,
   "metadata": {},
   "outputs": [],
   "source": [
    "directory_name = todays_date + \"/\""
   ]
  },
  {
   "cell_type": "code",
   "execution_count": 24,
   "metadata": {},
   "outputs": [
    {
     "data": {
      "text/plain": [
       "'230424/'"
      ]
     },
     "execution_count": 24,
     "metadata": {},
     "output_type": "execute_result"
    }
   ],
   "source": [
    "directory_name"
   ]
  },
  {
   "cell_type": "code",
   "execution_count": 26,
   "metadata": {},
   "outputs": [],
   "source": [
    "if directory_name not in get_all_s3_object_and_folder_names:\n",
    "    s3_client.put_object(Bucket=bucket_name, Key=(directory_name))"
   ]
  },
  {
   "cell_type": "code",
   "execution_count": 28,
   "metadata": {},
   "outputs": [],
   "source": [
    "for item in get_content:\n",
    "    object_creation_date = item.get(\"LastModified\").strftime(\"%y%m%d\") + \"/\"\n",
    "    object_name = item.get(\"Key\")\n",
    "\n",
    "    if object_creation_date == directory_name and \"/\" not in object_name:\n",
    "        s3_client.copy_object(Bucket=bucket_name, CopySource=bucket_name+\"/\"+object_name, Key=directory_name+object_name)\n",
    "        s3_client.delete_obect(Bucket=bucket_name, Key=object_name)"
   ]
  }
 ],
 "metadata": {
  "kernelspec": {
   "display_name": "Python 3",
   "language": "python",
   "name": "python3"
  },
  "language_info": {
   "codemirror_mode": {
    "name": "ipython",
    "version": 3
   },
   "file_extension": ".py",
   "mimetype": "text/x-python",
   "name": "python",
   "nbconvert_exporter": "python",
   "pygments_lexer": "ipython3",
   "version": "3.10.8"
  },
  "orig_nbformat": 4
 },
 "nbformat": 4,
 "nbformat_minor": 2
}
